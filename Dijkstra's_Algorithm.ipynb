{
 "cells": [
  {
   "cell_type": "markdown",
   "id": "3d402b64",
   "metadata": {},
   "source": [
    "# Dijkstra's Algorithm:"
   ]
  },
  {
   "cell_type": "markdown",
   "id": "900b3e80",
   "metadata": {},
   "source": [
    "### Dijkstra's Algorithm is used to find the shortest path in a weighted graph."
   ]
  },
  {
   "cell_type": "code",
   "execution_count": 1,
   "id": "b487c69b",
   "metadata": {},
   "outputs": [
    {
     "name": "stdout",
     "output_type": "stream",
     "text": [
      "Shortest Distances from A\n",
      "To A: 0\n",
      "To B: 1\n",
      "To C: 3\n",
      "To D: 4\n"
     ]
    }
   ],
   "source": [
    "import heapq\n",
    "\n",
    "def dijkstra(graph, start):\n",
    "    distances = {node: float('infinity') for node in graph}\n",
    "    distances[start] = 0\n",
    "    queue = [(0, start)]\n",
    "\n",
    "    while queue:\n",
    "        current_distance, current_node = heapq.heappop(queue)\n",
    "        if current_distance > distances[current_node]:\n",
    "            continue\n",
    "        for neighbor, weight in graph[current_node].items():\n",
    "            distance = current_distance + weight\n",
    "            if distance < distances[neighbor]:\n",
    "                distances[neighbor] = distance\n",
    "                heapq.heappush(queue, (distance, neighbor))\n",
    "    return distances\n",
    "\n",
    "# Initialize the graph as a dictionary of dictionaries, representing weighted edges between nodes.\n",
    "graph = {\n",
    "    'A': {'B': 1, 'C': 4},\n",
    "    'B': {'A': 1, 'C': 2, 'D': 5},\n",
    "    'C': {'A': 4, 'B': 2, 'D': 1},\n",
    "    'D': {'B': 5, 'C': 1}\n",
    "}\n",
    "\n",
    "# Choose the starting node for Dijkstra's algorithm.\n",
    "start_node = 'A'\n",
    "\n",
    "# Call the dijkstra function with the initialized graph and start node.\n",
    "shortest_distances = dijkstra(graph, start_node)\n",
    "\n",
    "# Print the shortest distances from the start node to all other nodes.\n",
    "print(\"Shortest Distances from\", start_node)\n",
    "for node, distance in shortest_distances.items():\n",
    "    print(f\"To {node}: {distance}\")\n"
   ]
  },
  {
   "cell_type": "code",
   "execution_count": null,
   "id": "1022143d",
   "metadata": {},
   "outputs": [],
   "source": []
  }
 ],
 "metadata": {
  "kernelspec": {
   "display_name": "Python 3 (ipykernel)",
   "language": "python",
   "name": "python3"
  },
  "language_info": {
   "codemirror_mode": {
    "name": "ipython",
    "version": 3
   },
   "file_extension": ".py",
   "mimetype": "text/x-python",
   "name": "python",
   "nbconvert_exporter": "python",
   "pygments_lexer": "ipython3",
   "version": "3.11.5"
  }
 },
 "nbformat": 4,
 "nbformat_minor": 5
}
